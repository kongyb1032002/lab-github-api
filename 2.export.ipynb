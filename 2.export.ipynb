{
 "cells": [
  {
   "cell_type": "code",
   "execution_count": 79,
   "metadata": {},
   "outputs": [],
   "source": [
    "from github import Github\n",
    "import os\n",
    "import time\n",
    "import pandas as pd"
   ]
  },
  {
   "cell_type": "code",
   "execution_count": null,
   "metadata": {},
   "outputs": [],
   "source": [
    "department = 'vnpay'\n",
    "private_token = ''\n",
    "host = \"https://github.com\" "
   ]
  },
  {
   "cell_type": "code",
   "execution_count": 81,
   "metadata": {},
   "outputs": [],
   "source": [
    "g = Github(login_or_token=private_token)\n",
    "\n",
    "# Folder to store export files\n",
    "info_folder = os.path.join('info', department)\n",
    "os.makedirs(info_folder, exist_ok=True)\n"
   ]
  },
  {
   "cell_type": "code",
   "execution_count": 82,
   "metadata": {},
   "outputs": [],
   "source": [
    "# Lấy các organizations của user\n",
    "organizations = g.get_user().get_orgs()\n",
    "list_organizations = []"
   ]
  },
  {
   "cell_type": "code",
   "execution_count": 83,
   "metadata": {},
   "outputs": [
    {
     "data": {
      "text/html": [
       "<div>\n",
       "<style scoped>\n",
       "    .dataframe tbody tr th:only-of-type {\n",
       "        vertical-align: middle;\n",
       "    }\n",
       "\n",
       "    .dataframe tbody tr th {\n",
       "        vertical-align: top;\n",
       "    }\n",
       "\n",
       "    .dataframe thead th {\n",
       "        text-align: right;\n",
       "    }\n",
       "</style>\n",
       "<table border=\"1\" class=\"dataframe\">\n",
       "  <thead>\n",
       "    <tr style=\"text-align: right;\">\n",
       "      <th></th>\n",
       "      <th>id</th>\n",
       "      <th>name</th>\n",
       "      <th>path</th>\n",
       "      <th>url</th>\n",
       "    </tr>\n",
       "  </thead>\n",
       "  <tbody>\n",
       "    <tr>\n",
       "      <th>0</th>\n",
       "      <td>129816109</td>\n",
       "      <td>blc-onchain</td>\n",
       "      <td>blc-onchain</td>\n",
       "      <td>https://github.com/blc-onchain</td>\n",
       "    </tr>\n",
       "    <tr>\n",
       "      <th>1</th>\n",
       "      <td>188412566</td>\n",
       "      <td>ntkongdm</td>\n",
       "      <td>ntkongdm</td>\n",
       "      <td>https://github.com/ntkongdm</td>\n",
       "    </tr>\n",
       "  </tbody>\n",
       "</table>\n",
       "</div>"
      ],
      "text/plain": [
       "          id         name         path                             url\n",
       "0  129816109  blc-onchain  blc-onchain  https://github.com/blc-onchain\n",
       "1  188412566     ntkongdm     ntkongdm     https://github.com/ntkongdm"
      ]
     },
     "execution_count": 83,
     "metadata": {},
     "output_type": "execute_result"
    }
   ],
   "source": [
    "# Thu thập thông tin các organizations\n",
    "for org in organizations:\n",
    "    list_organizations.append({\n",
    "        'id': org.id,\n",
    "        'name': org.login,\n",
    "        'path': org.login,\n",
    "        'url': org.html_url,\n",
    "    })\n",
    "\n",
    "df_organizations = pd.DataFrame(list_organizations)\n",
    "df_organizations"
   ]
  },
  {
   "cell_type": "code",
   "execution_count": 84,
   "metadata": {},
   "outputs": [],
   "source": [
    "# Lưu thông tin các organization vào CSV\n",
    "file_org = os.path.join(info_folder, 'organization-export.csv')\n",
    "df_organizations.to_csv(file_org)"
   ]
  },
  {
   "cell_type": "code",
   "execution_count": 85,
   "metadata": {},
   "outputs": [],
   "source": [
    "# Lấy repository cá nhân của user\n",
    "user = g.get_user()\n",
    "personal_repositories = user.get_repos()\n",
    "list_repositories = []"
   ]
  },
  {
   "cell_type": "code",
   "execution_count": 86,
   "metadata": {},
   "outputs": [
    {
     "name": "stderr",
     "output_type": "stream",
     "text": [
      "Cloning into 'info/vnpay/blc-onchain/bot-chat-gpt'...\n"
     ]
    },
    {
     "name": "stdout",
     "output_type": "stream",
     "text": [
      "Downloaded bot-chat-gpt to info/vnpay/blc-onchain/bot-chat-gpt: https://github.com/blc-onchain/bot-chat-gpt\n"
     ]
    },
    {
     "name": "stderr",
     "output_type": "stream",
     "text": [
      "Cloning into 'info/vnpay/ntkongdm/temp'...\n"
     ]
    },
    {
     "name": "stdout",
     "output_type": "stream",
     "text": [
      "Downloaded temp to info/vnpay/ntkongdm/temp: https://github.com/ntkongdm/temp\n"
     ]
    }
   ],
   "source": [
    "# List all org\n",
    "for org in organizations:\n",
    "    repositories = org.get_repos()\n",
    "    for repo in repositories:\n",
    "        # Tách phần tên tổ chức (org) từ full_name\n",
    "        org_name, repo_name = repo.full_name.rsplit('/', 1)\n",
    "\n",
    "        # Tạo thư mục cho tổ chức (nếu chưa tồn tại)\n",
    "        repo_folder = os.path.join(info_folder, org_name)\n",
    "        os.makedirs(repo_folder, exist_ok=True)\n",
    "\n",
    "        # Đường dẫn tệp tar.gz repository\n",
    "        repo_file = os.path.join(repo_folder, f\"{repo_name}\")\n",
    "\n",
    "        # URL để tải repository ở dạng tar.gz (thay cho .zip)\n",
    "        repo_url = f\"https://github.com/{repo.full_name}\"\n",
    "        list_repositories.append({\n",
    "            'id': repo.id,\n",
    "            'name': repo.name,\n",
    "            'name_with_namespace': repo.full_name,\n",
    "            'folder': repo_folder,\n",
    "            'project_file': repo_file,\n",
    "            'group': repo.organization.login,\n",
    "            'url': repo_url\n",
    "        })\n",
    "        # Dùng curl để tải file về\n",
    "        os.system(f\"git clone https://{private_token}@github.com/{repo.full_name}.git {repo_file}\")\n",
    "        # os.system(f\"curl -L {repo_url} -o {repo_file}\")\n",
    "        print(f\"Downloaded {repo_name} to {repo_file}: {repo_url}\")\n"
   ]
  },
  {
   "cell_type": "code",
   "execution_count": 87,
   "metadata": {},
   "outputs": [],
   "source": [
    "# # Thu thập thông tin các repository cá nhân\n",
    "# for repo in personal_repositories:\n",
    "\n",
    "#     # Tách phần tên người dùng (user) từ full_name\n",
    "#     user_name, repo_name = repo.full_name.rsplit('/', 1)\n",
    "\n",
    "#     # Tạo thư mục cho người dùng (nếu chưa tồn tại)\n",
    "#     repo_folder = os.path.join(info_folder, user_name)\n",
    "#     os.makedirs(repo_folder, exist_ok=True)\n",
    "\n",
    "#     # Đường dẫn tệp zip repository\n",
    "#     repo_file = os.path.join(repo_folder, f\"{repo_name}.zip\")\n",
    "\n",
    "#     # URL để tải repository\n",
    "#     repo_url = f\"https://github.com/{repo.full_name}/archive/refs/heads/main.zip\"  # Giả sử nhánh 'main' là mặc định\n",
    "\n",
    "#     # Dùng curl để tải file về\n",
    "#     os.system(f\"curl -L {repo_url} -o {repo_file}\")\n",
    "#     list_repositories.append({\n",
    "#         'id': repo.id,\n",
    "#         'name': repo.name,\n",
    "#         'name_with_namespace': repo.full_name,\n",
    "#         'folder': repo_folder,\n",
    "#         'project_file': repo_file,\n",
    "#         'group': repo.organization\n",
    "#     })\n",
    "\n",
    "\n",
    "#     print(f\"Downloaded {repo.organization}/{repo_name} to {repo_file}\")\n",
    "\n",
    "# # Chuyển thông tin repository sang DataFrame"
   ]
  },
  {
   "cell_type": "code",
   "execution_count": 88,
   "metadata": {},
   "outputs": [
    {
     "data": {
      "text/html": [
       "<div>\n",
       "<style scoped>\n",
       "    .dataframe tbody tr th:only-of-type {\n",
       "        vertical-align: middle;\n",
       "    }\n",
       "\n",
       "    .dataframe tbody tr th {\n",
       "        vertical-align: top;\n",
       "    }\n",
       "\n",
       "    .dataframe thead th {\n",
       "        text-align: right;\n",
       "    }\n",
       "</style>\n",
       "<table border=\"1\" class=\"dataframe\">\n",
       "  <thead>\n",
       "    <tr style=\"text-align: right;\">\n",
       "      <th></th>\n",
       "      <th>id</th>\n",
       "      <th>name</th>\n",
       "      <th>name_with_namespace</th>\n",
       "      <th>folder</th>\n",
       "      <th>project_file</th>\n",
       "      <th>group</th>\n",
       "      <th>url</th>\n",
       "    </tr>\n",
       "  </thead>\n",
       "  <tbody>\n",
       "    <tr>\n",
       "      <th>0</th>\n",
       "      <td>601876893</td>\n",
       "      <td>bot-chat-gpt</td>\n",
       "      <td>blc-onchain/bot-chat-gpt</td>\n",
       "      <td>info/vnpay/blc-onchain</td>\n",
       "      <td>info/vnpay/blc-onchain/bot-chat-gpt</td>\n",
       "      <td>blc-onchain</td>\n",
       "      <td>https://github.com/blc-onchain/bot-chat-gpt</td>\n",
       "    </tr>\n",
       "    <tr>\n",
       "      <th>1</th>\n",
       "      <td>888238368</td>\n",
       "      <td>temp</td>\n",
       "      <td>ntkongdm/temp</td>\n",
       "      <td>info/vnpay/ntkongdm</td>\n",
       "      <td>info/vnpay/ntkongdm/temp</td>\n",
       "      <td>ntkongdm</td>\n",
       "      <td>https://github.com/ntkongdm/temp</td>\n",
       "    </tr>\n",
       "  </tbody>\n",
       "</table>\n",
       "</div>"
      ],
      "text/plain": [
       "          id          name       name_with_namespace                  folder  \\\n",
       "0  601876893  bot-chat-gpt  blc-onchain/bot-chat-gpt  info/vnpay/blc-onchain   \n",
       "1  888238368          temp             ntkongdm/temp     info/vnpay/ntkongdm   \n",
       "\n",
       "                          project_file        group  \\\n",
       "0  info/vnpay/blc-onchain/bot-chat-gpt  blc-onchain   \n",
       "1             info/vnpay/ntkongdm/temp     ntkongdm   \n",
       "\n",
       "                                           url  \n",
       "0  https://github.com/blc-onchain/bot-chat-gpt  \n",
       "1             https://github.com/ntkongdm/temp  "
      ]
     },
     "execution_count": 88,
     "metadata": {},
     "output_type": "execute_result"
    }
   ],
   "source": [
    "df_repositories = pd.DataFrame(list_repositories)\n",
    "df_repositories"
   ]
  },
  {
   "cell_type": "code",
   "execution_count": 89,
   "metadata": {},
   "outputs": [
    {
     "name": "stdout",
     "output_type": "stream",
     "text": [
      "Done exporting GitHub data\n"
     ]
    }
   ],
   "source": [
    "# Lưu thông tin repository vào CSV\n",
    "file_repo = os.path.join(info_folder, 'repository-export.csv')\n",
    "df_repositories.to_csv(file_repo)\n",
    "\n",
    "print(\"Done exporting GitHub data\")"
   ]
  }
 ],
 "metadata": {
  "kernelspec": {
   "display_name": "Python 3",
   "language": "python",
   "name": "python3"
  },
  "language_info": {
   "codemirror_mode": {
    "name": "ipython",
    "version": 3
   },
   "file_extension": ".py",
   "mimetype": "text/x-python",
   "name": "python",
   "nbconvert_exporter": "python",
   "pygments_lexer": "ipython3",
   "version": "3.10.12"
  }
 },
 "nbformat": 4,
 "nbformat_minor": 2
}
