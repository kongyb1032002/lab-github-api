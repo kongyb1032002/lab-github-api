{
 "cells": [
  {
   "cell_type": "code",
   "execution_count": 104,
   "metadata": {},
   "outputs": [
    {
     "name": "stdout",
     "output_type": "stream",
     "text": [
      "Defaulting to user installation because normal site-packages is not writeable\n",
      "Requirement already satisfied: PyGithub in /home/ntkong/.local/lib/python3.10/site-packages (from -r requirements.txt (line 1)) (2.5.0)\n",
      "Requirement already satisfied: pandas in /home/ntkong/.local/lib/python3.10/site-packages (from -r requirements.txt (line 2)) (2.2.3)\n",
      "Requirement already satisfied: typing-extensions>=4.0.0 in /home/ntkong/.local/lib/python3.10/site-packages (from PyGithub->-r requirements.txt (line 1)) (4.12.2)\n",
      "Requirement already satisfied: Deprecated in /home/ntkong/.local/lib/python3.10/site-packages (from PyGithub->-r requirements.txt (line 1)) (1.2.14)\n",
      "Requirement already satisfied: pyjwt[crypto]>=2.4.0 in /home/ntkong/.local/lib/python3.10/site-packages (from PyGithub->-r requirements.txt (line 1)) (2.9.0)\n",
      "Requirement already satisfied: pynacl>=1.4.0 in /usr/lib/python3/dist-packages (from PyGithub->-r requirements.txt (line 1)) (1.5.0)\n",
      "Requirement already satisfied: requests>=2.14.0 in /home/ntkong/.local/lib/python3.10/site-packages (from PyGithub->-r requirements.txt (line 1)) (2.32.3)\n",
      "Requirement already satisfied: urllib3>=1.26.0 in /usr/lib/python3/dist-packages (from PyGithub->-r requirements.txt (line 1)) (1.26.5)\n",
      "Requirement already satisfied: python-dateutil>=2.8.2 in /home/ntkong/.local/lib/python3.10/site-packages (from pandas->-r requirements.txt (line 2)) (2.9.0.post0)\n",
      "Requirement already satisfied: tzdata>=2022.7 in /home/ntkong/.local/lib/python3.10/site-packages (from pandas->-r requirements.txt (line 2)) (2024.2)\n",
      "Requirement already satisfied: numpy>=1.22.4 in /home/ntkong/.local/lib/python3.10/site-packages (from pandas->-r requirements.txt (line 2)) (2.1.3)\n",
      "Requirement already satisfied: pytz>=2020.1 in /usr/lib/python3/dist-packages (from pandas->-r requirements.txt (line 2)) (2022.1)\n",
      "Requirement already satisfied: cryptography>=3.4.0 in /usr/lib/python3/dist-packages (from pyjwt[crypto]>=2.4.0->PyGithub->-r requirements.txt (line 1)) (3.4.8)\n",
      "Requirement already satisfied: cffi>=1.4.1 in /home/ntkong/.local/lib/python3.10/site-packages (from pynacl>=1.4.0->PyGithub->-r requirements.txt (line 1)) (1.17.1)\n",
      "Requirement already satisfied: six>=1.5 in /usr/lib/python3/dist-packages (from python-dateutil>=2.8.2->pandas->-r requirements.txt (line 2)) (1.16.0)\n",
      "Requirement already satisfied: certifi>=2017.4.17 in /usr/lib/python3/dist-packages (from requests>=2.14.0->PyGithub->-r requirements.txt (line 1)) (2020.6.20)\n",
      "Requirement already satisfied: charset-normalizer<4,>=2 in /home/ntkong/.local/lib/python3.10/site-packages (from requests>=2.14.0->PyGithub->-r requirements.txt (line 1)) (3.4.0)\n",
      "Requirement already satisfied: idna<4,>=2.5 in /usr/lib/python3/dist-packages (from requests>=2.14.0->PyGithub->-r requirements.txt (line 1)) (3.3)\n",
      "Requirement already satisfied: wrapt<2,>=1.10 in /home/ntkong/.local/lib/python3.10/site-packages (from Deprecated->PyGithub->-r requirements.txt (line 1)) (1.16.0)\n",
      "Requirement already satisfied: pycparser in /home/ntkong/.local/lib/python3.10/site-packages (from cffi>=1.4.1->pynacl>=1.4.0->PyGithub->-r requirements.txt (line 1)) (2.22)\n",
      "Note: you may need to restart the kernel to use updated packages.\n"
     ]
    }
   ],
   "source": [
    "pip install -r requirements.txt"
   ]
  },
  {
   "cell_type": "code",
   "execution_count": 105,
   "metadata": {},
   "outputs": [],
   "source": [
    "import gitlab\n",
    "import pandas as pd\n",
    "import os\n",
    "import time"
   ]
  },
  {
   "cell_type": "code",
   "execution_count": null,
   "metadata": {},
   "outputs": [],
   "source": [
    "department = \"vnpay\"\n",
    "host = 'http://localhost:10001'\n",
    "private_token = ''\n",
    "info_folder = os.path.join('info', department)"
   ]
  },
  {
   "cell_type": "code",
   "execution_count": 107,
   "metadata": {},
   "outputs": [
    {
     "name": "stderr",
     "output_type": "stream",
     "text": [
      "/tmp/ipykernel_42103/3625467838.py:2: UserWarning: The base URL in the server response differs from the user-provided base URL (http://localhost:10001 -> http://localhost:8929).\n",
      "This is usually caused by a misconfigured base URL on your side or a misconfigured external_url on the server side, and can lead to broken pagination and unexpected behavior. If this is intentional, use `keep_base_url=True` when initializing the Gitlab instance to keep the user-provided base URL. (python-gitlab: /tmp/ipykernel_42103/3625467838.py:2)\n",
      "  gl.auth()\n"
     ]
    }
   ],
   "source": [
    "gl = gitlab.Gitlab(url=host, private_token=private_token)\n",
    "gl.auth()"
   ]
  },
  {
   "cell_type": "code",
   "execution_count": 108,
   "metadata": {},
   "outputs": [],
   "source": [
    "username =gl.user.username"
   ]
  },
  {
   "cell_type": "code",
   "execution_count": 109,
   "metadata": {},
   "outputs": [
    {
     "name": "stdout",
     "output_type": "stream",
     "text": [
      "400: Failed to save group {:path=>[\"has already been taken\"]}\n"
     ]
    }
   ],
   "source": [
    "try:\n",
    "    zgroup = gl.groups.create({'name': department, 'path': department})\n",
    "except Exception as ex:\n",
    "    print(ex)\n",
    "group = gl.groups.get(department)\n",
    "parent_id = group.id"
   ]
  },
  {
   "cell_type": "code",
   "execution_count": 110,
   "metadata": {},
   "outputs": [
    {
     "data": {
      "text/html": [
       "<div>\n",
       "<style scoped>\n",
       "    .dataframe tbody tr th:only-of-type {\n",
       "        vertical-align: middle;\n",
       "    }\n",
       "\n",
       "    .dataframe tbody tr th {\n",
       "        vertical-align: top;\n",
       "    }\n",
       "\n",
       "    .dataframe thead th {\n",
       "        text-align: right;\n",
       "    }\n",
       "</style>\n",
       "<table border=\"1\" class=\"dataframe\">\n",
       "  <thead>\n",
       "    <tr style=\"text-align: right;\">\n",
       "      <th></th>\n",
       "      <th>id</th>\n",
       "      <th>name</th>\n",
       "      <th>path</th>\n",
       "      <th>url</th>\n",
       "    </tr>\n",
       "  </thead>\n",
       "  <tbody>\n",
       "    <tr>\n",
       "      <th>0</th>\n",
       "      <td>129816109</td>\n",
       "      <td>blc-onchain</td>\n",
       "      <td>blc-onchain</td>\n",
       "      <td>https://github.com/blc-onchain</td>\n",
       "    </tr>\n",
       "    <tr>\n",
       "      <th>1</th>\n",
       "      <td>188412566</td>\n",
       "      <td>ntkongdm</td>\n",
       "      <td>ntkongdm</td>\n",
       "      <td>https://github.com/ntkongdm</td>\n",
       "    </tr>\n",
       "  </tbody>\n",
       "</table>\n",
       "</div>"
      ],
      "text/plain": [
       "          id         name         path                             url\n",
       "0  129816109  blc-onchain  blc-onchain  https://github.com/blc-onchain\n",
       "1  188412566     ntkongdm     ntkongdm     https://github.com/ntkongdm"
      ]
     },
     "execution_count": 110,
     "metadata": {},
     "output_type": "execute_result"
    }
   ],
   "source": [
    "cfg_group_file = f'info/{department}/organization-export.csv'\n",
    "df_group = pd.read_csv(cfg_group_file, index_col=0)\n",
    "df_group.head()"
   ]
  },
  {
   "cell_type": "code",
   "execution_count": 111,
   "metadata": {},
   "outputs": [
    {
     "name": "stdout",
     "output_type": "stream",
     "text": [
      "blc-onchain\n",
      "Error while importing group blc-onchain: 400: Failed to save group {:name=>[\"has already been taken\"], :path=>[\"has already been taken\"]}\n",
      "ntkongdm\n",
      "Error while importing group ntkongdm: 400: Failed to save group {:name=>[\"has already been taken\"], :path=>[\"has already been taken\"]}\n"
     ]
    }
   ],
   "source": [
    "for index, group in df_group.iterrows():\n",
    "    print(group['name'])\n",
    "    group_name = group['name']\n",
    "    try:\n",
    "        output = gl.groups.create({\n",
    "            'name': group_name,\n",
    "            'path': group_name,\n",
    "            'parent_id': parent_id,\n",
    "        })\n",
    "        print(f\"Done create group {group_name}\")\n",
    "    except Exception as ex:\n",
    "        print(f\"Error while importing group {group_name}: {ex}\")"
   ]
  },
  {
   "cell_type": "code",
   "execution_count": 112,
   "metadata": {},
   "outputs": [
    {
     "data": {
      "text/html": [
       "<div>\n",
       "<style scoped>\n",
       "    .dataframe tbody tr th:only-of-type {\n",
       "        vertical-align: middle;\n",
       "    }\n",
       "\n",
       "    .dataframe tbody tr th {\n",
       "        vertical-align: top;\n",
       "    }\n",
       "\n",
       "    .dataframe thead th {\n",
       "        text-align: right;\n",
       "    }\n",
       "</style>\n",
       "<table border=\"1\" class=\"dataframe\">\n",
       "  <thead>\n",
       "    <tr style=\"text-align: right;\">\n",
       "      <th></th>\n",
       "      <th>id</th>\n",
       "      <th>name</th>\n",
       "      <th>name_with_namespace</th>\n",
       "      <th>folder</th>\n",
       "      <th>project_file</th>\n",
       "      <th>group</th>\n",
       "      <th>url</th>\n",
       "    </tr>\n",
       "  </thead>\n",
       "  <tbody>\n",
       "    <tr>\n",
       "      <th>0</th>\n",
       "      <td>601876893</td>\n",
       "      <td>bot-chat-gpt</td>\n",
       "      <td>blc-onchain/bot-chat-gpt</td>\n",
       "      <td>info/vnpay/blc-onchain</td>\n",
       "      <td>info/vnpay/blc-onchain/bot-chat-gpt</td>\n",
       "      <td>blc-onchain</td>\n",
       "      <td>https://github.com/blc-onchain/bot-chat-gpt</td>\n",
       "    </tr>\n",
       "    <tr>\n",
       "      <th>1</th>\n",
       "      <td>888238368</td>\n",
       "      <td>temp</td>\n",
       "      <td>ntkongdm/temp</td>\n",
       "      <td>info/vnpay/ntkongdm</td>\n",
       "      <td>info/vnpay/ntkongdm/temp</td>\n",
       "      <td>ntkongdm</td>\n",
       "      <td>https://github.com/ntkongdm/temp</td>\n",
       "    </tr>\n",
       "  </tbody>\n",
       "</table>\n",
       "</div>"
      ],
      "text/plain": [
       "          id          name       name_with_namespace                  folder  \\\n",
       "0  601876893  bot-chat-gpt  blc-onchain/bot-chat-gpt  info/vnpay/blc-onchain   \n",
       "1  888238368          temp             ntkongdm/temp     info/vnpay/ntkongdm   \n",
       "\n",
       "                          project_file        group  \\\n",
       "0  info/vnpay/blc-onchain/bot-chat-gpt  blc-onchain   \n",
       "1             info/vnpay/ntkongdm/temp     ntkongdm   \n",
       "\n",
       "                                           url  \n",
       "0  https://github.com/blc-onchain/bot-chat-gpt  \n",
       "1             https://github.com/ntkongdm/temp  "
      ]
     },
     "execution_count": 112,
     "metadata": {},
     "output_type": "execute_result"
    }
   ],
   "source": [
    "cfg_project_file = f'info/{department}/repository-export.csv'\n",
    "df_project = pd.read_csv(cfg_project_file, index_col=0)\n",
    "df_project.head()"
   ]
  },
  {
   "cell_type": "code",
   "execution_count": 113,
   "metadata": {},
   "outputs": [],
   "source": [
    "group = gl.groups.get(department)\n",
    "projects = df_project.to_dict('records')"
   ]
  },
  {
   "cell_type": "code",
   "execution_count": 114,
   "metadata": {},
   "outputs": [],
   "source": [
    "host_with_user = host.replace(\"//\", f\"//{username}:{private_token}@\")"
   ]
  },
  {
   "cell_type": "code",
   "execution_count": 115,
   "metadata": {},
   "outputs": [
    {
     "data": {
      "text/plain": [
       "[{'id': 1, 'full_path': 'root'},\n",
       " {'id': 28, 'full_path': 'test'},\n",
       " {'id': 50, 'full_path': 'vnpay'},\n",
       " {'id': 51, 'full_path': 'vnpay/blc-onchain'},\n",
       " {'id': 52, 'full_path': 'vnpay/ntkongdm'}]"
      ]
     },
     "execution_count": 115,
     "metadata": {},
     "output_type": "execute_result"
    }
   ],
   "source": [
    "namespaces = gl.namespaces.list(get_all=True)\n",
    "list_groups = []\n",
    "for namespace in namespaces:\n",
    "   list_groups.append({\n",
    "         'id': namespace.id,\n",
    "         # 'name': dgroup.name,\n",
    "         # 'path': dgroup.path,\n",
    "         # 'full_name': dgroup.full_name,\n",
    "         'full_path': namespace.full_path,\n",
    "         # 'parent_id': dgroup.parent_id,\n",
    "         # 'created_at': dgroup.created_at,\n",
    "         # 'organization_id': dgroup.organization_id,\n",
    "    })\n",
    "# print(list_groups)\n",
    "list_groups"
   ]
  },
  {
   "cell_type": "code",
   "execution_count": 116,
   "metadata": {},
   "outputs": [],
   "source": [
    "def get_fullpath(name, name_with_namespace):\n",
    "    # print(name_with_namespace)\n",
    "    parts = name_with_namespace.split('/')\n",
    "    parts.pop()\n",
    "    # print(parts)\n",
    "    parts.insert(0, name)\n",
    "    return '/'.join(str(x).strip() for x in parts) \n",
    "def get_parent(groups, project_path):\n",
    "    for group in groups:\n",
    "        if group['full_path'] == project_path: \n",
    "            return group['id']\n",
    "    return None \n",
    "\n",
    "def found_project(project_name_with_namespace):\n",
    "    try:\n",
    "      return gl.projects.get(project_name_with_namespace)\n",
    "    except:\n",
    "      return None "
   ]
  },
  {
   "cell_type": "code",
   "execution_count": 117,
   "metadata": {},
   "outputs": [],
   "source": [
    "def create_new_project(project_name, parent_id):\n",
    "    try:\n",
    "        # Tạo repository mới\n",
    "        new_project = gl.projects.create(\n",
    "            name=project_name,\n",
    "            namespace_id=parent_id,\n",
    "            visibility='private',\n",
    "        )\n",
    "        return new_project\n",
    "    except Exception as e:\n",
    "        print(f\"Error while creating project {project_name}: {e}\")\n",
    "        return None"
   ]
  },
  {
   "cell_type": "code",
   "execution_count": 118,
   "metadata": {},
   "outputs": [
    {
     "name": "stdout",
     "output_type": "stream",
     "text": [
      "Start importing project: bot-chat-gpt, path: vnpay/blc-onchain\n",
      "Project: vnpay/blc-onchain/bot-chat-gpt exists\n",
      "Start importing project: temp, path: vnpay/ntkongdm\n",
      "Project: vnpay/ntkongdm/temp exists\n",
      "Done pushing all branches and tags to the new remote.\n"
     ]
    }
   ],
   "source": [
    "import_status = []\n",
    "for project in projects: \n",
    "    project_file = project['project_file']\n",
    "    project_path = get_fullpath(department, project['name_with_namespace'])\n",
    "    project_name = project['name']\n",
    "    print(f\"Start importing project: {project_name}, path: {project_path}\")\n",
    "    \n",
    "    project_name_with_namespace = f\"{project_path}/{project_name}\"\n",
    "    project = found_project(project_name_with_namespace)\n",
    "\n",
    "    if project: \n",
    "        print(f\"Project: {project_name_with_namespace} exists\")\n",
    "        import_status.append({\n",
    "            'name': project_name,\n",
    "            'name_with_namespace': project_name_with_namespace,\n",
    "            'project_url': f\"{host}/{project_name_with_namespace}\",\n",
    "            'ex': f\"Project: {project_name_with_namespace} exists\",\n",
    "            'status': \"exists\"\n",
    "        })\n",
    "        continue \n",
    "    \n",
    "    parent_id = get_parent(list_groups, project_path)\n",
    "    if not parent_id: \n",
    "        parent_id = group.id  # Default in department group \n",
    "        print(f\"Project: {project_name} not found parent id\")\n",
    "    \n",
    "    try:\n",
    "        # Tạo project mới trên GitLab hoặc hệ thống Git của bạn\n",
    "        new_project = gl.projects.create({\n",
    "            'name': project_name,\n",
    "            'namespace_id': parent_id,\n",
    "            'visibility': 'private'\n",
    "        })\n",
    "        print(f\"Push {project_file} to {host}/{project_name_with_namespace}\")\n",
    "        \n",
    "        # Lệnh push tất cả các nhánh và tags lên remote mới\n",
    "        os.system(f\"cd {project_file} && git push --all {host_with_user}/{project_name_with_namespace}\")\n",
    "        os.system(f\"cd {project_file} && git push --tags {host_with_user}/{project_name_with_namespace}\")\n",
    "        import_status.append({\n",
    "            'name': project_name,\n",
    "            'name_with_namespace': project_name_with_namespace,\n",
    "            'project_url': f\"{host}/{project_name_with_namespace}\",\n",
    "            'ex': f'{None}',\n",
    "            'status': \"success\"\n",
    "        })\n",
    "    except Exception as e:\n",
    "        import_status.append({\n",
    "            'name': project_name,\n",
    "            'name_with_namespace': project_name_with_namespace,\n",
    "            'project_url': f\"{host}/{project_name_with_namespace}\",\n",
    "            'ex': f'{ex}',\n",
    "            'status': \"failed\"\n",
    "        })\n",
    "        print(f\"An unexpected error occurred while creating project {project_name}: {e}\")\n",
    "    \n",
    "print(\"Done pushing all branches and tags to the new remote.\")"
   ]
  },
  {
   "cell_type": "code",
   "execution_count": 119,
   "metadata": {},
   "outputs": [
    {
     "data": {
      "text/plain": [
       "[{'name': 'bot-chat-gpt',\n",
       "  'name_with_namespace': 'vnpay/blc-onchain/bot-chat-gpt',\n",
       "  'project_url': 'http://localhost:10001/vnpay/blc-onchain/bot-chat-gpt',\n",
       "  'ex': 'Project: vnpay/blc-onchain/bot-chat-gpt exists',\n",
       "  'status': 'exists'},\n",
       " {'name': 'temp',\n",
       "  'name_with_namespace': 'vnpay/ntkongdm/temp',\n",
       "  'project_url': 'http://localhost:10001/vnpay/ntkongdm/temp',\n",
       "  'ex': 'Project: vnpay/ntkongdm/temp exists',\n",
       "  'status': 'exists'}]"
      ]
     },
     "execution_count": 119,
     "metadata": {},
     "output_type": "execute_result"
    }
   ],
   "source": [
    "import_status"
   ]
  },
  {
   "cell_type": "code",
   "execution_count": 120,
   "metadata": {},
   "outputs": [
    {
     "data": {
      "text/html": [
       "<div>\n",
       "<style scoped>\n",
       "    .dataframe tbody tr th:only-of-type {\n",
       "        vertical-align: middle;\n",
       "    }\n",
       "\n",
       "    .dataframe tbody tr th {\n",
       "        vertical-align: top;\n",
       "    }\n",
       "\n",
       "    .dataframe thead th {\n",
       "        text-align: right;\n",
       "    }\n",
       "</style>\n",
       "<table border=\"1\" class=\"dataframe\">\n",
       "  <thead>\n",
       "    <tr style=\"text-align: right;\">\n",
       "      <th></th>\n",
       "      <th>name</th>\n",
       "      <th>name_with_namespace</th>\n",
       "      <th>project_url</th>\n",
       "      <th>ex</th>\n",
       "      <th>status</th>\n",
       "    </tr>\n",
       "  </thead>\n",
       "  <tbody>\n",
       "    <tr>\n",
       "      <th>0</th>\n",
       "      <td>bot-chat-gpt</td>\n",
       "      <td>vnpay/blc-onchain/bot-chat-gpt</td>\n",
       "      <td>http://localhost:10001/vnpay/blc-onchain/bot-c...</td>\n",
       "      <td>Project: vnpay/blc-onchain/bot-chat-gpt exists</td>\n",
       "      <td>exists</td>\n",
       "    </tr>\n",
       "    <tr>\n",
       "      <th>1</th>\n",
       "      <td>temp</td>\n",
       "      <td>vnpay/ntkongdm/temp</td>\n",
       "      <td>http://localhost:10001/vnpay/ntkongdm/temp</td>\n",
       "      <td>Project: vnpay/ntkongdm/temp exists</td>\n",
       "      <td>exists</td>\n",
       "    </tr>\n",
       "  </tbody>\n",
       "</table>\n",
       "</div>"
      ],
      "text/plain": [
       "           name             name_with_namespace  \\\n",
       "0  bot-chat-gpt  vnpay/blc-onchain/bot-chat-gpt   \n",
       "1          temp             vnpay/ntkongdm/temp   \n",
       "\n",
       "                                         project_url  \\\n",
       "0  http://localhost:10001/vnpay/blc-onchain/bot-c...   \n",
       "1         http://localhost:10001/vnpay/ntkongdm/temp   \n",
       "\n",
       "                                               ex  status  \n",
       "0  Project: vnpay/blc-onchain/bot-chat-gpt exists  exists  \n",
       "1             Project: vnpay/ntkongdm/temp exists  exists  "
      ]
     },
     "execution_count": 120,
     "metadata": {},
     "output_type": "execute_result"
    }
   ],
   "source": [
    "df = pd.DataFrame(import_status)\n",
    "df"
   ]
  }
 ],
 "metadata": {
  "kernelspec": {
   "display_name": "Python 3",
   "language": "python",
   "name": "python3"
  },
  "language_info": {
   "codemirror_mode": {
    "name": "ipython",
    "version": 3
   },
   "file_extension": ".py",
   "mimetype": "text/x-python",
   "name": "python",
   "nbconvert_exporter": "python",
   "pygments_lexer": "ipython3",
   "version": "3.10.12"
  }
 },
 "nbformat": 4,
 "nbformat_minor": 2
}
