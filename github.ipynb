{
 "cells": [
  {
   "cell_type": "code",
   "execution_count": null,
   "metadata": {},
   "outputs": [
    {
     "name": "stdout",
     "output_type": "stream",
     "text": [
      "['CHECK_AFTER_INIT_FLAG', '_CompletableGithubObject__complete',\n",
      " '_CompletableGithubObject__completed', '_GithubObject__makeSimpleAttribute',\n",
      " '_GithubObject__makeSimpleListAttribute',\n",
      " '_GithubObject__makeTransformedAttribute', '__annotations__', '__class__',\n",
      " '__delattr__', '__dict__', '__dir__', '__doc__', '__eq__', '__format__',\n",
      " '__ge__', '__getattribute__', '__gt__', '__hash__', '__init__',\n",
      " '__init_subclass__', '__le__', '__lt__', '__module__', '__ne__', '__new__',\n",
      " '__reduce__', '__reduce_ex__', '__repr__', '__setattr__', '__sizeof__',\n",
      " '__str__', '__subclasshook__', '__weakref__', '_avatar_url', '_bio', '_blog',\n",
      " '_collaborators', '_company', '_completeIfNeeded', '_completeIfNotSet',\n",
      " '_created_at', '_disk_usage', '_email', '_events_url', '_followers',\n",
      " '_followers_url', '_following', '_following_url', '_gists_url', '_gravatar_id',\n",
      " '_headers', '_hireable', '_html_url', '_id', '_initAttributes', '_location',\n",
      " '_login', '_makeBoolAttribute', '_makeClassAttribute',\n",
      " '_makeDatetimeAttribute', '_makeDecimalAttribute', '_makeDictAttribute',\n",
      " '_makeDictOfStringsToClassesAttribute', '_makeFloatAttribute',\n",
      " '_makeHttpDatetimeAttribute', '_makeIntAttribute',\n",
      " '_makeListOfClassesAttribute', '_makeListOfDictsAttribute',\n",
      " '_makeListOfIntsAttribute', '_makeListOfListOfStringsAttribute',\n",
      " '_makeListOfStringsAttribute', '_makeStringAttribute',\n",
      " '_makeTimestampAttribute', '_name', '_node_id', '_organizations_url',\n",
      " '_owned_private_repos', '_parentUrl', '_plan', '_private_gists',\n",
      " '_public_gists', '_public_repos', '_rawData', '_received_events_url',\n",
      " '_repos_url', '_requester', '_site_admin', '_starred_url',\n",
      " '_storeAndUseAttributes', '_subscriptions_url', '_total_private_repos',\n",
      " '_two_factor_authentication', '_type', '_updated_at', '_url', '_useAttributes',\n",
      " 'accept_invitation', 'add_to_emails', 'add_to_following', 'add_to_starred',\n",
      " 'add_to_subscriptions', 'add_to_watched', 'avatar_url', 'bio', 'blog',\n",
      " 'collaborators', 'company', 'create_authorization', 'create_fork',\n",
      " 'create_gist', 'create_key', 'create_migration', 'create_project',\n",
      " 'create_repo', 'create_repo_from_template', 'created_at', 'disk_usage', 'edit',\n",
      " 'email', 'etag', 'events_url', 'followers', 'followers_url', 'following',\n",
      " 'following_url', 'get__repr__', 'get_authorization', 'get_authorizations',\n",
      " 'get_emails', 'get_events', 'get_followers', 'get_following', 'get_gists',\n",
      " 'get_installations', 'get_invitations', 'get_issues', 'get_key', 'get_keys',\n",
      " 'get_migrations', 'get_notification', 'get_notifications',\n",
      " 'get_organization_events', 'get_organization_membership',\n",
      " 'get_organization_memberships', 'get_orgs', 'get_repo', 'get_repos',\n",
      " 'get_starred', 'get_starred_gists', 'get_subscriptions', 'get_teams',\n",
      " 'get_user_issues', 'get_watched', 'gists_url', 'gravatar_id',\n",
      " 'has_in_following', 'has_in_starred', 'has_in_subscriptions', 'has_in_watched',\n",
      " 'hireable', 'html_url', 'id', 'is_graphql', 'is_rest', 'last_modified',\n",
      " 'last_modified_datetime', 'location', 'login', 'mark_notifications_as_read',\n",
      " 'name', 'node_id', 'organizations_url', 'owned_private_repos', 'plan',\n",
      " 'private_gists', 'public_gists', 'public_repos', 'raw_data', 'raw_headers',\n",
      " 'received_events_url', 'remove_from_emails', 'remove_from_following',\n",
      " 'remove_from_starred', 'remove_from_subscriptions', 'remove_from_watched',\n",
      " 'repos_url', 'requester', 'setCheckAfterInitFlag', 'site_admin', 'starred_url',\n",
      " 'subscriptions_url', 'total_private_repos', 'two_factor_authentication',\n",
      " 'type', 'update', 'updated_at', 'url']\n"
     ]
    }
   ],
   "source": [
    "from github import Github\n",
    "from github import Auth\n",
    "import pprint\n",
    "\n",
    "token= \"\"\n",
    "auth = Auth.Token(token)\n",
    "g = Github(auth=auth)\n",
    "\n",
    "# Get user \n",
    "user = g.get_user()\n",
    "\n",
    "# Check user \n",
    "attrs = dir(user)\n",
    "pprint.pprint(attrs,compact=True)"
   ]
  },
  {
   "cell_type": "code",
   "execution_count": 6,
   "metadata": {},
   "outputs": [
    {
     "name": "stdout",
     "output_type": "stream",
     "text": [
      "54620256 None None MDQ6VXNlcjU0NjIwMjU2 None\n",
      "83600970 None None MDQ6VXNlcjgzNjAwOTcw None\n"
     ]
    }
   ],
   "source": [
    "# List all org\n",
    "data = []\n",
    "orgs = user.get_orgs()\n",
    "for org in orgs:\n",
    "    for member in org.get_members():\n",
    "        print(member.id, member.name, member.email, member.node_id, member.role)\n",
    "        # attrs = dir(member)\n",
    "        # pprint.pprint(attrs,compact=True)\n",
    "        break\n",
    "    "
   ]
  },
  {
   "cell_type": "code",
   "execution_count": 7,
   "metadata": {},
   "outputs": [
    {
     "name": "stdout",
     "output_type": "stream",
     "text": [
      "None\n"
     ]
    },
    {
     "name": "stderr",
     "output_type": "stream",
     "text": [
      "Request GET /repos/blc-onchain/bot-chat-gpt/collaborators failed with 403: Forbidden\n"
     ]
    },
    {
     "name": "stdout",
     "output_type": "stream",
     "text": [
      "Error:  403 {\"message\": \"Must have push access to view repository collaborators.\", \"documentation_url\": \"https://docs.github.com/rest/collaborators/collaborators#list-repository-collaborators\", \"status\": \"403\"}\n",
      "None\n"
     ]
    }
   ],
   "source": [
    "# List all org\n",
    "data = []\n",
    "orgs = user.get_orgs()\n",
    "for org in orgs:\n",
    "    print(org.name)\n",
    "    try:\n",
    "        for repo in org.get_repos():\n",
    "            for collaborator in repo.get_collaborators():\n",
    "                data.append({\n",
    "                    \"org\": repo.organization.login,\n",
    "                    \"repo\": repo.name,  \n",
    "                    \"user\": collaborator.login,\n",
    "                    \"triage\": collaborator.permissions.triage,\n",
    "                    \"push\": collaborator.permissions.push, \n",
    "                    \"pull\": collaborator.permissions.pull,      \n",
    "                    \"maintain\": collaborator.permissions.maintain, \n",
    "                    \"admin\": collaborator.permissions.admin, \n",
    "                    \"type\": collaborator.type\n",
    "                })\n",
    "    except Exception as ex:\n",
    "        print(\"Error: \", ex)\n",
    "    #         break\n",
    "    #     break\n",
    "    # break"
   ]
  },
  {
   "cell_type": "code",
   "execution_count": 8,
   "metadata": {},
   "outputs": [
    {
     "name": "stdout",
     "output_type": "stream",
     "text": [
      "[{'org': 'ntkongdm', 'repo': 'temp', 'user': 'kongyb1032002', 'triage': True, 'push': True, 'pull': True, 'maintain': True, 'admin': True, 'type': 'User'}]\n"
     ]
    }
   ],
   "source": [
    "print(data)"
   ]
  },
  {
   "cell_type": "code",
   "execution_count": 9,
   "metadata": {},
   "outputs": [
    {
     "name": "stdout",
     "output_type": "stream",
     "text": [
      "Defaulting to user installation because normal site-packages is not writeable\n",
      "Requirement already satisfied: pandas in /home/ntkong/.local/lib/python3.10/site-packages (2.2.3)\n",
      "Requirement already satisfied: numpy>=1.22.4 in /home/ntkong/.local/lib/python3.10/site-packages (from pandas) (2.1.3)\n",
      "Requirement already satisfied: tzdata>=2022.7 in /home/ntkong/.local/lib/python3.10/site-packages (from pandas) (2024.2)\n",
      "Requirement already satisfied: python-dateutil>=2.8.2 in /home/ntkong/.local/lib/python3.10/site-packages (from pandas) (2.9.0.post0)\n",
      "Requirement already satisfied: pytz>=2020.1 in /usr/lib/python3/dist-packages (from pandas) (2022.1)\n",
      "Requirement already satisfied: six>=1.5 in /usr/lib/python3/dist-packages (from python-dateutil>=2.8.2->pandas) (1.16.0)\n"
     ]
    }
   ],
   "source": [
    "!pip install pandas"
   ]
  },
  {
   "cell_type": "code",
   "execution_count": 10,
   "metadata": {},
   "outputs": [],
   "source": [
    "# for repo in g.get_user().get_repos():\n",
    "#     print(repo.full_name)\n",
    "    # attrs = dir(repo)\n",
    "    # pprint.pprint(attrs,compact=True)\n",
    "    # for member in repo.get_members():\n",
    "    #     attrs = dir(member)\n",
    "    #     pprint.pprint(attrs,compact=True)\n",
    "    #     break\n",
    "    # break\n",
    "    # print(repo.full_name)\n",
    "#     break\n",
    "# # To close connections after use\n",
    "# g.close()"
   ]
  },
  {
   "cell_type": "code",
   "execution_count": 11,
   "metadata": {},
   "outputs": [],
   "source": [
    "import pandas as pd  \n",
    "df = pd.DataFrame.from_dict(data) "
   ]
  },
  {
   "cell_type": "code",
   "execution_count": 12,
   "metadata": {},
   "outputs": [],
   "source": [
    "df.to_csv('blc_vnpay.csv', index=False)  "
   ]
  },
  {
   "cell_type": "code",
   "execution_count": 13,
   "metadata": {},
   "outputs": [
    {
     "name": "stdout",
     "output_type": "stream",
     "text": [
      "Defaulting to user installation because normal site-packages is not writeable\n",
      "Collecting openpyxl\n",
      "  Downloading openpyxl-3.1.5-py2.py3-none-any.whl (250 kB)\n",
      "\u001b[2K     \u001b[38;2;114;156;31m━━━━━━━━━━━━━━━━━━━━━━━━━━━━━━━━━━━━━\u001b[0m \u001b[32m250.9/250.9 KB\u001b[0m \u001b[31m728.6 kB/s\u001b[0m eta \u001b[36m0:00:00\u001b[0m kB/s\u001b[0m eta \u001b[36m0:00:01\u001b[0m:01\u001b[0m\n",
      "\u001b[?25hCollecting et-xmlfile\n",
      "  Downloading et_xmlfile-2.0.0-py3-none-any.whl (18 kB)\n",
      "Installing collected packages: et-xmlfile, openpyxl\n",
      "Successfully installed et-xmlfile-2.0.0 openpyxl-3.1.5\n"
     ]
    }
   ],
   "source": [
    "!pip install openpyxl"
   ]
  },
  {
   "cell_type": "code",
   "execution_count": 14,
   "metadata": {},
   "outputs": [],
   "source": [
    "df.to_excel(\"blc_vnpay.xlsx\",sheet_name='github')  "
   ]
  },
  {
   "cell_type": "markdown",
   "metadata": {},
   "source": [
    "# 2.Deleted acccount from github"
   ]
  },
  {
   "cell_type": "code",
   "execution_count": 15,
   "metadata": {},
   "outputs": [],
   "source": [
    "selected_repos = [\n",
    "\"blcvn/vtf_network\",\n",
    "\"blcvn/sharding_accounting\",\n",
    "\"blcvn/k8s_loyalty\",\n",
    "\"blcvn/loyalty-lib-go\",\n",
    "\"blcvn/loyalty-api\",\n",
    "\"blcvn/loyalty-client-app\",\n",
    "\"blcvn/lib-golang-test\",\n",
    "\"blcvn/loyalty-deploy\",\n",
    "\"blcvn/loyalty-crosscheck\",\n",
    "\"blcvn/baas_backend\",\n",
    "\"blcvn/baas_frontend\",\n",
    "\"blcvn/nhs_node\",\n",
    "\"blcvn/vtf_web\",\n",
    "\"blcvn/vnpoint_node\",\n",
    "\"blcvn/vnpoint_network\",\n",
    "\"blcvn/nhs_network\",\n",
    "\"blcvn/vtf_node\",\n",
    "\"blcvn/f5_core\",\n",
    "\"blcvn/f5_deploy\",\n",
    "\"blcvn/vtf_trace\",\n",
    "\"blcvn/f5_wallet\",\n",
    "\"blcvn/vtf_explorer\",\n",
    "\"blcvn/admin-api\",\n",
    "\"blcvn/corev3-api\",\n",
    "\"blcvn/corev3-appclient\",\n",
    "\"blcvn/corev3-chaincode\",\n",
    "\"blcvn/corev3-wallet\",\n",
    "\"blcvn/corev3-gstate\",\n",
    "\"blcvn/corev3-finalize\",\n",
    "\"blcvn/corev3-protos\",\n",
    "\"blcvn/corev3-libs\",\n",
    "\"blcvn/f5_shard\",\n",
    "\"blcvn/tool-check-ewallet\",\n",
    "\"blcvn/build-binary\",\n",
    "\"blcvn/corev3-account-state\",\n",
    "\"blcvn/crosscheck\",\n",
    "\"blcvn/corev3-sidechain-client\",\n",
    "\"blcvn/osb-protos\",\n",
    "\"blcvn/corev3-txmanager\",\n",
    "\"blcvn/loyalty-jobs\",\n",
    "\"blcvn/corev3-ipn\",\n",
    "\"blcvn/throughput-tools\",\n",
    "\"blcvn/admin-ui\",\n",
    "\"blcvn/web\",\n",
    "\"blcvn/migrate-tools\",\n",
    "\"blcvn/admin-deploy\",\n",
    "\"blcvn/teleport\",\n",
    "\"blcvn/osb-deploy\",\n",
    "\"blcvn/osb-goal-keeper\",\n",
    "\"blcvn/osb-network\",\n",
    "\"atn-dao/backend\",\n",
    "\"enablelabs-eco/explorer\"\n",
    "]\n"
   ]
  },
  {
   "cell_type": "code",
   "execution_count": 16,
   "metadata": {},
   "outputs": [],
   "source": [
    "\n",
    "account = \"sunspirit9999\"\n",
    "for repo in g.get_user().get_repos():\n",
    "    if repo.full_name in selected_repos:\n",
    "        print(\"Check:\", repo.full_name)\n",
    "        deletedAccount = None \n",
    "        for collaborator in repo.get_collaborators():\n",
    "            if collaborator.login == account:\n",
    "                print(\"Find: \", collaborator.login, \" in repo: \", repo.full_name)\n",
    "                deletedAccount = collaborator\n",
    "        if deletedAccount:\n",
    "            print(\" => Delete \", deletedAccount.login, \" in repo: \", repo.full_name)\n",
    "            repo.remove_from_collaborators(deletedAccount)\n",
    "        # attrs = dir(repo)\n",
    "        # pprint.pprint(attrs,compact=True)\n",
    "        "
   ]
  }
 ],
 "metadata": {
  "kernelspec": {
   "display_name": "Python 3",
   "language": "python",
   "name": "python3"
  },
  "language_info": {
   "codemirror_mode": {
    "name": "ipython",
    "version": 3
   },
   "file_extension": ".py",
   "mimetype": "text/x-python",
   "name": "python",
   "nbconvert_exporter": "python",
   "pygments_lexer": "ipython3",
   "version": "3.10.12"
  }
 },
 "nbformat": 4,
 "nbformat_minor": 4
}
